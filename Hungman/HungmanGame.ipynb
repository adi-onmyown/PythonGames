{
 "cells": [
  {
   "cell_type": "code",
   "execution_count": 1,
   "metadata": {},
   "outputs": [
    {
     "name": "stdout",
     "output_type": "stream",
     "text": [
      "pygame 1.9.6\n",
      "Hello from the pygame community. https://www.pygame.org/contribute.html\n"
     ]
    }
   ],
   "source": [
    "#########################################################\n",
    "## File Name: hangman.py                               ##\n",
    "## Description: Starter for Hangman project - ICS3U    ##\n",
    "#########################################################\n",
    "import pygame\n",
    "import random\n"
   ]
  },
  {
   "cell_type": "code",
   "execution_count": 2,
   "metadata": {},
   "outputs": [],
   "source": [
    "\n",
    "pygame.init()\n",
    "winHeight = 480\n",
    "winWidth = 700\n",
    "win=pygame.display.set_mode((winWidth,winHeight))"
   ]
  },
  {
   "cell_type": "code",
   "execution_count": 3,
   "metadata": {},
   "outputs": [],
   "source": [
    "\n",
    "#---------------------------------------#\n",
    "# initialize global variables/constants #\n",
    "#---------------------------------------#\n",
    "BLACK = (0,0, 0)\n",
    "WHITE = (255,255,255)\n",
    "RED = (255,0, 0)\n",
    "GREEN = (0,255,0)\n",
    "BLUE = (0,0,255)\n",
    "LIGHT_BLUE = (102,255,255)\n",
    "\n",
    "btn_font = pygame.font.SysFont(\"arial\", 20)\n",
    "guess_font = pygame.font.SysFont(\"monospace\", 24)\n",
    "lost_font = pygame.font.SysFont('arial', 45)\n",
    "word = ''\n",
    "buttons = []\n",
    "guessed = []\n",
    "hangmanPics = [pygame.image.load('hangman0.png'), pygame.image.load('hangman1.png'), pygame.image.load('hangman2.png'), pygame.image.load('hangman3.png'), pygame.image.load('hangman4.png'), pygame.image.load('hangman5.png'), pygame.image.load('hangman6.png')]\n",
    "\n",
    "limbs = 0\n",
    "\n"
   ]
  },
  {
   "cell_type": "code",
   "execution_count": 4,
   "metadata": {},
   "outputs": [],
   "source": [
    "\n",
    "def redraw_game_window():\n",
    "    global guessed\n",
    "    global hangmanPics\n",
    "    global limbs\n",
    "    win.fill(GREEN)\n",
    "    # Buttons\n",
    "    for i in range(len(buttons)):\n",
    "        if buttons[i][4]:\n",
    "            pygame.draw.circle(win, BLACK, (buttons[i][1], buttons[i][2]), buttons[i][3])\n",
    "            pygame.draw.circle(win, buttons[i][0], (buttons[i][1], buttons[i][2]), buttons[i][3] - 2\n",
    "                               )\n",
    "            label = btn_font.render(chr(buttons[i][5]), 1, BLACK)\n",
    "            win.blit(label, (buttons[i][1] - (label.get_width() / 2), buttons[i][2] - (label.get_height() / 2)))\n",
    "\n",
    "    spaced = spacedOut(word, guessed)\n",
    "    label1 = guess_font.render(spaced, 1, BLACK)\n",
    "    rect = label1.get_rect()\n",
    "    length = rect[2]\n",
    "    \n",
    "    win.blit(label1,(winWidth/2 - length/2, 400))\n",
    "\n",
    "    pic = hangmanPics[limbs]\n",
    "    win.blit(pic, (winWidth/2 - pic.get_width()/2 + 20, 150))\n",
    "    pygame.display.update()\n",
    "\n"
   ]
  },
  {
   "cell_type": "code",
   "execution_count": 5,
   "metadata": {},
   "outputs": [],
   "source": [
    "\n",
    "def randomWord():\n",
    "    file = open('words.txt')\n",
    "    f = file.readlines()\n",
    "    i = random.randrange(0, len(f) - 1)\n",
    "\n",
    "    return f[i][:-1]\n",
    "\n"
   ]
  },
  {
   "cell_type": "code",
   "execution_count": 6,
   "metadata": {},
   "outputs": [],
   "source": [
    "\n",
    "def hang(guess):\n",
    "    global word\n",
    "    if guess.lower() not in word.lower():\n",
    "        return True\n",
    "    else:\n",
    "        return False\n"
   ]
  },
  {
   "cell_type": "code",
   "execution_count": 7,
   "metadata": {},
   "outputs": [],
   "source": [
    "\n",
    "def spacedOut(word, guessed=[]):\n",
    "    spacedWord = ''\n",
    "    guessedLetters = guessed\n",
    "    for x in range(len(word)):\n",
    "        if word[x] != ' ':\n",
    "            spacedWord += '_ '\n",
    "            for i in range(len(guessedLetters)):\n",
    "                if word[x].upper() == guessedLetters[i]:\n",
    "                    spacedWord = spacedWord[:-2]\n",
    "                    spacedWord += word[x].upper() + ' '\n",
    "        elif word[x] == ' ':\n",
    "            spacedWord += ' '\n",
    "    return spacedWord\n",
    "            \n"
   ]
  },
  {
   "cell_type": "code",
   "execution_count": 8,
   "metadata": {},
   "outputs": [],
   "source": [
    "\n",
    "def buttonHit(x, y):\n",
    "    for i in range(len(buttons)):\n",
    "        if x < buttons[i][1] + 20 and x > buttons[i][1] - 20:\n",
    "            if y < buttons[i][2] + 20 and y > buttons[i][2] - 20:\n",
    "                return buttons[i][5]\n",
    "    return None\n",
    "\n"
   ]
  },
  {
   "cell_type": "code",
   "execution_count": 9,
   "metadata": {},
   "outputs": [],
   "source": [
    "\n",
    "def end(winner=False):\n",
    "    global limbs\n",
    "    lostTxt = 'You Lost, press any key to play again...'\n",
    "    winTxt = 'WINNER!, press any key to play again...'\n",
    "    redraw_game_window()\n",
    "    pygame.time.delay(1000)\n",
    "    win.fill(GREEN)\n",
    "\n",
    "    if winner == True:\n",
    "        label = lost_font.render(winTxt, 1, BLACK)\n",
    "    else:\n",
    "        label = lost_font.render(lostTxt, 1, BLACK)\n",
    "\n",
    "    wordTxt = lost_font.render(word.upper(), 1, BLACK)\n",
    "    wordWas = lost_font.render('The phrase was: ', 1, BLACK)\n",
    "\n",
    "    win.blit(wordTxt, (winWidth/2 - wordTxt.get_width()/2, 295))\n",
    "    win.blit(wordWas, (winWidth/2 - wordWas.get_width()/2, 245))\n",
    "    win.blit(label, (winWidth / 2 - label.get_width() / 2, 140))\n",
    "    pygame.display.update()\n",
    "    again = True\n",
    "    while again:\n",
    "        for event in pygame.event.get():\n",
    "            if event.type == pygame.QUIT:\n",
    "                pygame.quit()\n",
    "            if event.type == pygame.KEYDOWN:\n",
    "                again = False\n",
    "    reset()\n",
    "\n"
   ]
  },
  {
   "cell_type": "code",
   "execution_count": 10,
   "metadata": {},
   "outputs": [],
   "source": [
    "\n",
    "def reset():\n",
    "    global limbs\n",
    "    global guessed\n",
    "    global buttons\n",
    "    global word\n",
    "    for i in range(len(buttons)):\n",
    "        buttons[i][4] = True\n",
    "\n",
    "    limbs = 0\n",
    "    guessed = []\n",
    "    word = randomWord()\n",
    "\n"
   ]
  },
  {
   "cell_type": "code",
   "execution_count": 11,
   "metadata": {},
   "outputs": [],
   "source": [
    "#MAINLINE\n",
    "\n",
    "\n",
    "# Setup buttons\n",
    "increase = round(winWidth / 13)\n",
    "for i in range(26):\n",
    "    if i < 13:\n",
    "        y = 40\n",
    "        x = 25 + (increase * i)\n",
    "    else:\n",
    "        x = 25 + (increase * (i - 13))\n",
    "        y = 85\n",
    "    buttons.append([LIGHT_BLUE, x, y, 20, True, 65 + i])\n",
    "    # buttons.append([color, x_pos, y_pos, radius, visible, char])\n",
    "\n",
    "word = randomWord()\n",
    "inPlay = True\n",
    "\n"
   ]
  },
  {
   "cell_type": "code",
   "execution_count": 12,
   "metadata": {},
   "outputs": [
    {
     "name": "stdout",
     "output_type": "stream",
     "text": [
      "_ _ _  _ _ _  _ _ T \n",
      "_ _ _  _ _ _  _ U T \n",
      "O _ _  O _ _  O U T \n"
     ]
    },
    {
     "ename": "error",
     "evalue": "video system not initialized",
     "output_type": "error",
     "traceback": [
      "\u001b[1;31m---------------------------------------------------------------------------\u001b[0m",
      "\u001b[1;31merror\u001b[0m                                     Traceback (most recent call last)",
      "\u001b[1;32m<ipython-input-12-b139f1a7a982>\u001b[0m in \u001b[0;36m<module>\u001b[1;34m\u001b[0m\n\u001b[0;32m     19\u001b[0m                         \u001b[0mlimbs\u001b[0m \u001b[1;33m+=\u001b[0m \u001b[1;36m1\u001b[0m\u001b[1;33m\u001b[0m\u001b[1;33m\u001b[0m\u001b[0m\n\u001b[0;32m     20\u001b[0m                     \u001b[1;32melse\u001b[0m\u001b[1;33m:\u001b[0m\u001b[1;33m\u001b[0m\u001b[1;33m\u001b[0m\u001b[0m\n\u001b[1;32m---> 21\u001b[1;33m                         \u001b[0mend\u001b[0m\u001b[1;33m(\u001b[0m\u001b[1;33m)\u001b[0m\u001b[1;33m\u001b[0m\u001b[1;33m\u001b[0m\u001b[0m\n\u001b[0m\u001b[0;32m     22\u001b[0m                 \u001b[1;32melse\u001b[0m\u001b[1;33m:\u001b[0m\u001b[1;33m\u001b[0m\u001b[1;33m\u001b[0m\u001b[0m\n\u001b[0;32m     23\u001b[0m                     \u001b[0mprint\u001b[0m\u001b[1;33m(\u001b[0m\u001b[0mspacedOut\u001b[0m\u001b[1;33m(\u001b[0m\u001b[0mword\u001b[0m\u001b[1;33m,\u001b[0m \u001b[0mguessed\u001b[0m\u001b[1;33m)\u001b[0m\u001b[1;33m)\u001b[0m\u001b[1;33m\u001b[0m\u001b[1;33m\u001b[0m\u001b[0m\n",
      "\u001b[1;32m<ipython-input-9-734623657864>\u001b[0m in \u001b[0;36mend\u001b[1;34m(winner)\u001b[0m\n\u001b[0;32m     21\u001b[0m     \u001b[0magain\u001b[0m \u001b[1;33m=\u001b[0m \u001b[1;32mTrue\u001b[0m\u001b[1;33m\u001b[0m\u001b[1;33m\u001b[0m\u001b[0m\n\u001b[0;32m     22\u001b[0m     \u001b[1;32mwhile\u001b[0m \u001b[0magain\u001b[0m\u001b[1;33m:\u001b[0m\u001b[1;33m\u001b[0m\u001b[1;33m\u001b[0m\u001b[0m\n\u001b[1;32m---> 23\u001b[1;33m         \u001b[1;32mfor\u001b[0m \u001b[0mevent\u001b[0m \u001b[1;32min\u001b[0m \u001b[0mpygame\u001b[0m\u001b[1;33m.\u001b[0m\u001b[0mevent\u001b[0m\u001b[1;33m.\u001b[0m\u001b[0mget\u001b[0m\u001b[1;33m(\u001b[0m\u001b[1;33m)\u001b[0m\u001b[1;33m:\u001b[0m\u001b[1;33m\u001b[0m\u001b[1;33m\u001b[0m\u001b[0m\n\u001b[0m\u001b[0;32m     24\u001b[0m             \u001b[1;32mif\u001b[0m \u001b[0mevent\u001b[0m\u001b[1;33m.\u001b[0m\u001b[0mtype\u001b[0m \u001b[1;33m==\u001b[0m \u001b[0mpygame\u001b[0m\u001b[1;33m.\u001b[0m\u001b[0mQUIT\u001b[0m\u001b[1;33m:\u001b[0m\u001b[1;33m\u001b[0m\u001b[1;33m\u001b[0m\u001b[0m\n\u001b[0;32m     25\u001b[0m                 \u001b[0mpygame\u001b[0m\u001b[1;33m.\u001b[0m\u001b[0mquit\u001b[0m\u001b[1;33m(\u001b[0m\u001b[1;33m)\u001b[0m\u001b[1;33m\u001b[0m\u001b[1;33m\u001b[0m\u001b[0m\n",
      "\u001b[1;31merror\u001b[0m: video system not initialized"
     ]
    }
   ],
   "source": [
    "while inPlay:\n",
    "    redraw_game_window()\n",
    "    pygame.time.delay(10)\n",
    "\n",
    "    for event in pygame.event.get():\n",
    "        if event.type == pygame.QUIT:\n",
    "            inPlay = False\n",
    "        if event.type == pygame.KEYDOWN:\n",
    "            if event.key == pygame.K_ESCAPE:\n",
    "                inPlay = False\n",
    "        if event.type == pygame.MOUSEBUTTONDOWN:\n",
    "            clickPos = pygame.mouse.get_pos()\n",
    "            letter = buttonHit(clickPos[0], clickPos[1])\n",
    "            if letter != None:\n",
    "                guessed.append(chr(letter))\n",
    "                buttons[letter - 65][4] = False\n",
    "                if hang(chr(letter)):\n",
    "                    if limbs != 5:\n",
    "                        limbs += 1\n",
    "                    else:\n",
    "                        end()\n",
    "                else:\n",
    "                    print(spacedOut(word, guessed))\n",
    "                    if spacedOut(word, guessed).count('_') == 0:\n",
    "                        end(True)\n",
    "\n",
    "pygame.quit()\n",
    "\n",
    "# always quit pygame when done!\n"
   ]
  }
 ],
 "metadata": {
  "kernelspec": {
   "display_name": "Python 3",
   "language": "python",
   "name": "python3"
  },
  "language_info": {
   "codemirror_mode": {
    "name": "ipython",
    "version": 3
   },
   "file_extension": ".py",
   "mimetype": "text/x-python",
   "name": "python",
   "nbconvert_exporter": "python",
   "pygments_lexer": "ipython3",
   "version": "3.8.3"
  }
 },
 "nbformat": 4,
 "nbformat_minor": 4
}
